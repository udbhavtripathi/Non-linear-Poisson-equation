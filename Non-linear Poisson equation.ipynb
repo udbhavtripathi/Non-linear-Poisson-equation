{
 "cells": [
  {
   "cell_type": "markdown",
   "id": "possible-disaster",
   "metadata": {},
   "source": [
    "$- (grad (q(u) grad(u))=f$"
   ]
  },
  {
   "cell_type": "code",
   "execution_count": 1,
   "id": "legal-blackjack",
   "metadata": {},
   "outputs": [],
   "source": [
    "#u=u_D\n",
    "#taking q(u)=1+u^2"
   ]
  },
  {
   "cell_type": "code",
   "execution_count": 2,
   "id": "opponent-chapel",
   "metadata": {},
   "outputs": [],
   "source": [
    "from __future__ import print_function"
   ]
  },
  {
   "cell_type": "code",
   "execution_count": 3,
   "id": "crude-intermediate",
   "metadata": {},
   "outputs": [],
   "source": [
    "#Feniccs also have sym function so importing it before importing sympy to avoid name-clash\n",
    "from fenics import *\n",
    "\n",
    "def q(u):\n",
    "    return 1+u"
   ]
  },
  {
   "cell_type": "markdown",
   "id": "dimensional-grade",
   "metadata": {},
   "source": [
    "## Import sympy for calculation of 'f'"
   ]
  },
  {
   "cell_type": "code",
   "execution_count": 4,
   "id": "beautiful-while",
   "metadata": {},
   "outputs": [
    {
     "data": {
      "text/latex": [
       "$\\displaystyle - 6 x[0]^{2} - 4 x[1] - 8$"
      ],
      "text/plain": [
       "-6*x[0]**2 - 4*x[1] - 8"
      ]
     },
     "execution_count": 4,
     "metadata": {},
     "output_type": "execute_result"
    }
   ],
   "source": [
    "import sympy as sym\n",
    "\n",
    "x,y=sym.symbols('x[0],x[1]')\n",
    "# manufactured solution\n",
    "u=1+x*x+2*y\n",
    "#calculating f\n",
    "f=- sym.diff(q(u)*sym.diff(u,x),x)-sym.diff(q(u)*sym.diff(u,y),y)\n",
    "f=sym.simplify(f)\n",
    "f"
   ]
  },
  {
   "cell_type": "markdown",
   "id": "moving-hamilton",
   "metadata": {},
   "source": [
    "\n",
    "## Turn the expression for u and f into C or C++ syntax for fenics implementation"
   ]
  },
  {
   "cell_type": "code",
   "execution_count": 5,
   "id": "nuclear-significance",
   "metadata": {},
   "outputs": [
    {
     "name": "stdout",
     "output_type": "stream",
     "text": [
      "u = pow(x[0], 2) + 2*x[1] + 1\n",
      "f = -6*pow(x[0], 2) - 4*x[1] - 8\n"
     ]
    }
   ],
   "source": [
    "u_code = sym.printing.ccode(u)\n",
    "f_code = sym.printing.ccode(f)\n",
    "print('u =', u_code)\n",
    "print('f =', f_code)"
   ]
  },
  {
   "cell_type": "markdown",
   "id": "sonic-jenny",
   "metadata": {},
   "source": [
    "## Define the mesh"
   ]
  },
  {
   "cell_type": "code",
   "execution_count": 6,
   "id": "smart-flashing",
   "metadata": {},
   "outputs": [],
   "source": [
    "mesh=UnitSquareMesh(8,8)\n",
    "V=FunctionSpace(mesh,'P',1)\n"
   ]
  },
  {
   "cell_type": "markdown",
   "id": "friendly-price",
   "metadata": {},
   "source": [
    "## Define the boundary conditions"
   ]
  },
  {
   "cell_type": "code",
   "execution_count": 7,
   "id": "dominican-mills",
   "metadata": {},
   "outputs": [],
   "source": [
    "u_D=Expression(u_code,degree=2)\n",
    "def boundary(x,on_boundary):\n",
    "    return on_boundary\n",
    "bc = DirichletBC(V, u_D, boundary)"
   ]
  },
  {
   "cell_type": "markdown",
   "id": "satisfied-single",
   "metadata": {},
   "source": [
    "## Define the variational problem"
   ]
  },
  {
   "cell_type": "code",
   "execution_count": 8,
   "id": "bottom-donor",
   "metadata": {},
   "outputs": [],
   "source": [
    "# u must be defined as function intead of trial function for non-linear problems\n",
    "u=Function(V)\n",
    "v=TestFunction(V)\n",
    "f=Expression(f_code,degree=2)\n",
    "F=q(u)*dot(grad(u),grad(v))*dx-f*v*dx\n"
   ]
  },
  {
   "cell_type": "markdown",
   "id": "careful-occasion",
   "metadata": {},
   "source": [
    "## Computing the solution"
   ]
  },
  {
   "cell_type": "code",
   "execution_count": 12,
   "id": "comic-moore",
   "metadata": {},
   "outputs": [
    {
     "data": {
      "text/plain": [
       "Coefficient(FunctionSpace(Mesh(VectorElement(FiniteElement('Lagrange', triangle, 1), dim=2), 0), FiniteElement('Lagrange', triangle, 1)), 7)"
      ]
     },
     "execution_count": 12,
     "metadata": {},
     "output_type": "execute_result"
    }
   ],
   "source": [
    "#The solve function takes the nonlinear equations, derives symbolically the\n",
    "#Jacobian matrix, and runs a Newton method to compute the solution\n",
    "solve(F==0,u,bc)\n",
    "u"
   ]
  },
  {
   "cell_type": "code",
   "execution_count": 15,
   "id": "fundamental-concert",
   "metadata": {},
   "outputs": [
    {
     "name": "stdout",
     "output_type": "stream",
     "text": [
      "f_7\n"
     ]
    },
    {
     "name": "stderr",
     "output_type": "stream",
     "text": [
      "/usr/lib/petsc/lib/python3/dist-packages/dolfin/common/plotting.py:152: UserWarning: The following kwargs were not used by contour: 'interactive'\n",
      "  return ax.tricontourf(mesh2triang(mesh), C, levels, **kwargs)\n"
     ]
    },
    {
     "data": {
      "text/plain": [
       "<matplotlib.tri.tricontour.TriContourSet at 0x7f00c4460220>"
      ]
     },
     "execution_count": 15,
     "metadata": {},
     "output_type": "execute_result"
    },
    {
     "data": {
      "image/png": "[encoded data removed]",
      "text/plain": [
       "<Figure size 432x288 with 1 Axes>"
      ]
     },
     "metadata": {
      "needs_background": "light"
     },
     "output_type": "display_data"
    }
   ],
   "source": [
    "print(u)\n",
    "plot(u,interactive=True)"
   ]
  },
  {
   "cell_type": "code",
   "execution_count": 11,
   "id": "severe-clearing",
   "metadata": {},
   "outputs": [
    {
     "name": "stdout",
     "output_type": "stream",
     "text": [
      "error_max =  8.881784197001252e-15\n"
     ]
    }
   ],
   "source": [
    "u_e = interpolate(u_D, V)\n",
    "import numpy as np\n",
    "error_max = np.abs(u_e.vector().get_local() - u.vector().get_local()).max()\n",
    "print('error_max = ', error_max)"
   ]
  },
  {
   "cell_type": "code",
   "execution_count": null,
   "id": "tamil-patch",
   "metadata": {},
   "outputs": [],
   "source": []
  },
  {
   "cell_type": "code",
   "execution_count": null,
   "id": "changing-lesson",
   "metadata": {},
   "outputs": [],
   "source": []
  }
 ],
 "metadata": {
  "kernelspec": {
   "display_name": "Python 3",
   "language": "python",
   "name": "python3"
  },
  "language_info": {
   "codemirror_mode": {
    "name": "ipython",
    "version": 3
   },
   "file_extension": ".py",
   "mimetype": "text/x-python",
   "name": "python",
   "nbconvert_exporter": "python",
   "pygments_lexer": "ipython3",
   "version": "3.8.5"
  }
 },
 "nbformat": 4,
 "nbformat_minor": 5
}
